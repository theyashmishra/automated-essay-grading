{
  "nbformat": 4,
  "nbformat_minor": 0,
  "metadata": {
    "colab": {
      "name": "Automated Essay grading.ipynb",
      "provenance": [],
      "collapsed_sections": [],
      "authorship_tag": "ABX9TyMukB9elHlYhFPW8FKJdfA4",
      "include_colab_link": true
    },
    "kernelspec": {
      "name": "python3",
      "display_name": "Python 3"
    },
    "language_info": {
      "name": "python"
    }
  },
  "cells": [
    {
      "cell_type": "markdown",
      "metadata": {
        "id": "view-in-github",
        "colab_type": "text"
      },
      "source": [
        "<a href=\"https://colab.research.google.com/github/theyashmishra/automated-essay-grading/blob/main/Automated_Essay_grading.ipynb\" target=\"_parent\"><img src=\"https://colab.research.google.com/assets/colab-badge.svg\" alt=\"Open In Colab\"/></a>"
      ]
    },
    {
      "cell_type": "markdown",
      "metadata": {
        "id": "yPZPMPG8wCTv"
      },
      "source": [
        "The task is to predict scores of the given essays by their content .\n",
        "This task Requires bth NLP and Supervised learning, NLP for text preprocessing and supervised learning for prediction"
      ]
    },
    {
      "cell_type": "code",
      "metadata": {
        "id": "Ap9KtguhdYQX"
      },
      "source": [
        "#importing all neccesary files related to NLP , Data visualization, Predicton ,\n",
        "import nltk\n",
        "import pandas as pd\n",
        "import numpy as np\n",
        "import matplotlib.pyplot as plt\n",
        "import seaborn as sns\n",
        "from nltk.stem import WordNetLemmatizer\n",
        "from nltk.corpus import wordnet\n",
        "import re, collections\n",
        "from collections import defaultdict\n",
        "from sklearn.feature_extraction.text import CountVectorizer\n",
        "from sklearn.metrics import mean_squared_error, r2_score\n",
        "from sklearn.model_selection import train_test_split\n",
        "from sklearn.linear_model import LinearRegression\n",
        "from sklearn.svm import SVR\n",
        "from sklearn import ensemble\n",
        "from sklearn.model_selection import GridSearchCV\n"
      ],
      "execution_count": 178,
      "outputs": []
    },
    {
      "cell_type": "code",
      "metadata": {
        "id": "P6apku0vdmE9"
      },
      "source": [
        "#reading train Data and encoding in latin english(latin-1)\n",
        "dataframe = pd.read_csv('train.csv', encoding = 'latin-1')\n",
        "#removing extra columns\n",
        "dataframe.drop(['Unnamed: 0'],axis=1,inplace=True)\n",
        "dataframe.dropna(axis=0,inplace=True)"
      ],
      "execution_count": 179,
      "outputs": []
    },
    {
      "cell_type": "code",
      "metadata": {
        "colab": {
          "base_uri": "https://localhost:8080/",
          "height": 204
        },
        "id": "tyyRPoRYd5aw",
        "outputId": "70dcb302-a76e-4fbe-b9cd-a27b8fa14238"
      },
      "source": [
        "dataframe.head()"
      ],
      "execution_count": 180,
      "outputs": [
        {
          "output_type": "execute_result",
          "data": {
            "text/html": [
              "<div>\n",
              "<style scoped>\n",
              "    .dataframe tbody tr th:only-of-type {\n",
              "        vertical-align: middle;\n",
              "    }\n",
              "\n",
              "    .dataframe tbody tr th {\n",
              "        vertical-align: top;\n",
              "    }\n",
              "\n",
              "    .dataframe thead th {\n",
              "        text-align: right;\n",
              "    }\n",
              "</style>\n",
              "<table border=\"1\" class=\"dataframe\">\n",
              "  <thead>\n",
              "    <tr style=\"text-align: right;\">\n",
              "      <th></th>\n",
              "      <th>promptId</th>\n",
              "      <th>uniqueId</th>\n",
              "      <th>essay</th>\n",
              "      <th>evaluator_rating</th>\n",
              "    </tr>\n",
              "  </thead>\n",
              "  <tbody>\n",
              "    <tr>\n",
              "      <th>0</th>\n",
              "      <td>1</td>\n",
              "      <td>1_323</td>\n",
              "      <td>At present age, our education system is not go...</td>\n",
              "      <td>3.0</td>\n",
              "    </tr>\n",
              "    <tr>\n",
              "      <th>1</th>\n",
              "      <td>1</td>\n",
              "      <td>1_238</td>\n",
              "      <td>I am agree the tightly defined curriculum of o...</td>\n",
              "      <td>4.0</td>\n",
              "    </tr>\n",
              "    <tr>\n",
              "      <th>2</th>\n",
              "      <td>1</td>\n",
              "      <td>1_212</td>\n",
              "      <td>I strongly agree with the statement that tight...</td>\n",
              "      <td>2.0</td>\n",
              "    </tr>\n",
              "    <tr>\n",
              "      <th>3</th>\n",
              "      <td>1</td>\n",
              "      <td>1_117</td>\n",
              "      <td>Our education system is nice quitely but i dis...</td>\n",
              "      <td>2.0</td>\n",
              "    </tr>\n",
              "    <tr>\n",
              "      <th>4</th>\n",
              "      <td>1</td>\n",
              "      <td>1_229</td>\n",
              "      <td>i am totally agree with the statement that tig...</td>\n",
              "      <td>3.0</td>\n",
              "    </tr>\n",
              "  </tbody>\n",
              "</table>\n",
              "</div>"
            ],
            "text/plain": [
              "   promptId  ... evaluator_rating\n",
              "0         1  ...              3.0\n",
              "1         1  ...              4.0\n",
              "2         1  ...              2.0\n",
              "3         1  ...              2.0\n",
              "4         1  ...              3.0\n",
              "\n",
              "[5 rows x 4 columns]"
            ]
          },
          "metadata": {
            "tags": []
          },
          "execution_count": 180
        }
      ]
    },
    {
      "cell_type": "code",
      "metadata": {
        "colab": {
          "base_uri": "https://localhost:8080/",
          "height": 296
        },
        "id": "s7s0mxJOd-F3",
        "outputId": "51228a68-630d-4542-b625-ec53ff1eb151"
      },
      "source": [
        "# bar graph for each type of essays\n",
        "sns.countplot(x=\"promptId\", data=dataframe)"
      ],
      "execution_count": 275,
      "outputs": [
        {
          "output_type": "execute_result",
          "data": {
            "text/plain": [
              "<matplotlib.axes._subplots.AxesSubplot at 0x7fd22f36ab10>"
            ]
          },
          "metadata": {
            "tags": []
          },
          "execution_count": 275
        },
        {
          "output_type": "display_data",
          "data": {
            "image/png": "[encoded data removed]",
            "text/plain": [
              "<Figure size 432x288 with 1 Axes>"
            ]
          },
          "metadata": {
            "tags": [],
            "needs_background": "light"
          }
        }
      ]
    },
    {
      "cell_type": "code",
      "metadata": {
        "colab": {
          "base_uri": "https://localhost:8080/",
          "height": 300
        },
        "id": "JksBKrgzedCU",
        "outputId": "2566cce2-9ac2-4fe0-d7a4-b732d3c7ccbf"
      },
      "source": [
        "sns.countplot(x=\"evaluator_rating\", data=dataframe)"
      ],
      "execution_count": 182,
      "outputs": [
        {
          "output_type": "execute_result",
          "data": {
            "text/plain": [
              "<matplotlib.axes._subplots.AxesSubplot at 0x7fd22f12d7d0>"
            ]
          },
          "metadata": {
            "tags": []
          },
          "execution_count": 182
        },
        {
          "output_type": "display_data",
          "data": {
            "image/png": "[encoded data removed]",
            "text/plain": [
              "<Figure size 432x288 with 1 Axes>"
            ]
          },
          "metadata": {
            "tags": [],
            "needs_background": "light"
          }
        }
      ]
    },
    {
      "cell_type": "code",
      "metadata": {
        "id": "YkmhlPoAf7p5"
      },
      "source": [
        "#make a seprate copy of our dataframe for further experiments\n",
        "data = dataframe[['promptId','essay','evaluator_rating']].copy()"
      ],
      "execution_count": 183,
      "outputs": []
    },
    {
      "cell_type": "markdown",
      "metadata": {
        "id": "DCNo3zhGxEtn"
      },
      "source": [
        "Text preprocessing\n"
      ]
    },
    {
      "cell_type": "code",
      "metadata": {
        "id": "ai3M4q_DgSts"
      },
      "source": [
        "#convert text to sentence\n",
        "def sentence_to_wordlist(raw_sentence):\n",
        "    \n",
        "    clean_sentence = re.sub(\"[^a-zA-Z0-9]\",\" \", raw_sentence)\n",
        "    tokens = nltk.word_tokenize(clean_sentence)\n",
        "    \n",
        "    return tokens"
      ],
      "execution_count": 184,
      "outputs": []
    },
    {
      "cell_type": "code",
      "metadata": {
        "id": "aIK93NEZgbbF"
      },
      "source": [
        "#convert word to tokens\n",
        "def tokenize(essay):\n",
        "    stripped_essay = essay.strip()\n",
        "    \n",
        "    tokenizer = nltk.data.load('tokenizers/punkt/english.pickle')\n",
        "    raw_sentences = tokenizer.tokenize(stripped_essay)\n",
        "    \n",
        "    tokenized_sentences = []\n",
        "    for raw_sentence in raw_sentences:\n",
        "        if len(raw_sentence) > 0:\n",
        "            tokenized_sentences.append(sentence_to_wordlist(raw_sentence))\n",
        "    \n",
        "    return tokenized_sentences"
      ],
      "execution_count": 185,
      "outputs": []
    },
    {
      "cell_type": "code",
      "metadata": {
        "id": "Y4mzG5nZzeA_"
      },
      "source": [
        "# converting it into vectors\n",
        "def get_count_vectors(essays):\n",
        "    \n",
        "    vectorizer = CountVectorizer(max_features = 10000, ngram_range=(1, 3), stop_words='english')\n",
        "    \n",
        "    count_vectors = vectorizer.fit_transform(essays)\n",
        "    \n",
        "    feature_names = vectorizer.get_feature_names()\n",
        "    \n",
        "    return feature_names, count_vectors"
      ],
      "execution_count": 203,
      "outputs": []
    },
    {
      "cell_type": "code",
      "metadata": {
        "id": "lO3pflc_FjtO"
      },
      "source": [
        "# used for standardization of results\n",
        "def func(lis):\n",
        "\n",
        "  for i in range(0,len(lis)):\n",
        "    if lis[i]<0.25:\n",
        "     lis[i]=0\n",
        "    elif lis[i]<0.75:\n",
        "     lis[i]=0.5\n",
        "    elif lis[i]<1.25:\n",
        "     lis[i]=1 \n",
        "    elif lis[i]<1.75:\n",
        "     lis[i]=1.5\n",
        "    elif lis[i]<2.25:\n",
        "     lis[i]=2 \n",
        "    elif lis[i]<2.75:\n",
        "     lis[i]=2.5\n",
        "    elif lis[i]<3.25:\n",
        "     lis[i]=3 \n",
        "    elif lis[i]<3.75:\n",
        "     lis[i]=3.5\n",
        "    elif lis[i]<4.25:\n",
        "     lis[i]=4\n",
        "    elif lis[i]<4.75:\n",
        "     lis[i]=4.5\n",
        "    elif lis[i]<5.25:\n",
        "     lis[i]=5\n",
        "    else:\n",
        "     lis[i]=5   "
      ],
      "execution_count": 191,
      "outputs": []
    },
    {
      "cell_type": "markdown",
      "metadata": {
        "id": "I__UR0Vtxi4U"
      },
      "source": [
        "I have tried all classification models but they failed to give fair results whereas regression algorithms are suprisingly give better results then classification models and among all of them random forest works well"
      ]
    },
    {
      "cell_type": "code",
      "metadata": {
        "colab": {
          "base_uri": "https://localhost:8080/"
        },
        "id": "BABcYu3r3Ubo",
        "outputId": "c3d2637d-d6f7-4828-f36d-035d9ab16768"
      },
      "source": [
        "# model for essays of set 1\n",
        "\n",
        "feature_names_cv, count_vectors = get_count_vectors(data[data['promptId'] == 1]['essay'])\n",
        "\n",
        "X_cv = count_vectors.toarray()\n",
        "\n",
        "y_cv = data[data['promptId'] == 1]['evaluator_rating'].to_numpy()\n",
        "\n",
        "X_train, X_test, y_train, y_test = train_test_split(X_cv, y_cv, test_size = 0.3)\n",
        "from sklearn.ensemble import RandomForestClassifier, RandomForestRegressor, ExtraTreesRegressor, GradientBoostingRegressor\n",
        "clf = RandomForestRegressor(n_estimators=10)\n",
        "\n",
        "clf.fit(X_train, y_train)\n",
        "y_pred = clf.predict(X_test)\n",
        "func(y_pred)\n",
        "# printing MSE and clf score\n",
        "print(\"Mean squared error: %.2f\" % mean_squared_error(y_test, y_pred))\n",
        "\n",
        "clf.score(X_test,y_test)\n"
      ],
      "execution_count": 199,
      "outputs": [
        {
          "output_type": "stream",
          "text": [
            "Mean squared error: 1.23\n"
          ],
          "name": "stdout"
        },
        {
          "output_type": "execute_result",
          "data": {
            "text/plain": [
              "0.2527271882549712"
            ]
          },
          "metadata": {
            "tags": []
          },
          "execution_count": 199
        }
      ]
    },
    {
      "cell_type": "code",
      "metadata": {
        "colab": {
          "base_uri": "https://localhost:8080/"
        },
        "id": "gouLTv94-Cbp",
        "outputId": "2bf8ba39-c3db-4523-fa41-d2078bc74fc9"
      },
      "source": [
        "# model for essays of set 2\n",
        "\n",
        "feature_names_cv, count_vectors = get_count_vectors(data[data['promptId'] == 2]['essay'])\n",
        "\n",
        "X_cv = count_vectors.toarray()\n",
        "\n",
        "y_cv = data[data['promptId'] == 2]['evaluator_rating'].to_numpy()\n",
        "\n",
        "X_train, X_test, y_train, y_test = train_test_split(X_cv, y_cv, test_size = 0.3)\n",
        "from sklearn.ensemble import RandomForestClassifier, RandomForestRegressor, ExtraTreesRegressor, GradientBoostingRegressor\n",
        "clf = RandomForestRegressor(n_estimators=10)\n",
        "\n",
        "clf.fit(X_train, y_train)\n",
        "y_pred = clf.predict(X_test)\n",
        "func(y_pred)\n",
        "print(\"Mean squared error: %.2f\" % mean_squared_error(y_test, y_pred))\n",
        "\n",
        "clf.score(X_test,y_test)\n"
      ],
      "execution_count": 193,
      "outputs": [
        {
          "output_type": "stream",
          "text": [
            "Mean squared error: 0.69\n"
          ],
          "name": "stdout"
        },
        {
          "output_type": "execute_result",
          "data": {
            "text/plain": [
              "0.08977615349474644"
            ]
          },
          "metadata": {
            "tags": []
          },
          "execution_count": 193
        }
      ]
    },
    {
      "cell_type": "code",
      "metadata": {
        "colab": {
          "base_uri": "https://localhost:8080/"
        },
        "id": "0nQjGOvT-t97",
        "outputId": "0f9f63a1-93be-4187-c970-7c0385da10c5"
      },
      "source": [
        "# model for essays of set 3\n",
        "feature_names_cv, count_vectors = get_count_vectors(data[data['promptId'] == 3]['essay'])\n",
        "\n",
        "X_cv = count_vectors.toarray()\n",
        "\n",
        "y_cv = data[data['promptId'] == 3]['evaluator_rating'].to_numpy()\n",
        "\n",
        "X_train, X_test, y_train, y_test = train_test_split(X_cv, y_cv, test_size = 0.3)\n",
        "from sklearn.ensemble import RandomForestClassifier, RandomForestRegressor, ExtraTreesRegressor, GradientBoostingRegressor\n",
        "clf = RandomForestRegressor(n_estimators=10)\n",
        "\n",
        "clf.fit(X_train, y_train)\n",
        "y_pred = clf.predict(X_test)\n",
        "func(y_pred)\n",
        "print(\"Mean squared error: %.2f\" % mean_squared_error(y_test, y_pred))\n",
        "\n",
        "clf.score(X_test,y_test)\n"
      ],
      "execution_count": 194,
      "outputs": [
        {
          "output_type": "stream",
          "text": [
            "Mean squared error: 0.58\n"
          ],
          "name": "stdout"
        },
        {
          "output_type": "execute_result",
          "data": {
            "text/plain": [
              "-0.31463414634146325"
            ]
          },
          "metadata": {
            "tags": []
          },
          "execution_count": 194
        }
      ]
    },
    {
      "cell_type": "code",
      "metadata": {
        "colab": {
          "base_uri": "https://localhost:8080/"
        },
        "id": "QavGym83DJ3L",
        "outputId": "a974f311-4342-44b1-8e64-747106bf9949"
      },
      "source": [
        "# model for essays of set 5\n",
        "feature_names_cv, count_vectors = get_count_vectors(data[data['promptId'] == 5]['essay'])\n",
        "\n",
        "X_cv = count_vectors.toarray()\n",
        "\n",
        "y_cv = data[data['promptId'] == 5]['evaluator_rating'].to_numpy()\n",
        "\n",
        "X_train, X_test, y_train, y_test = train_test_split(X_cv, y_cv, test_size = 0.3)\n",
        "from sklearn.ensemble import RandomForestClassifier, RandomForestRegressor, ExtraTreesRegressor, GradientBoostingRegressor\n",
        "clf = RandomForestRegressor(n_estimators=10)\n",
        "\n",
        "clf.fit(X_train, y_train)\n",
        "y_pred = clf.predict(X_test)\n",
        "func(y_pred)\n",
        "print(\"Mean squared error: %.2f\" % mean_squared_error(y_test, y_pred))\n",
        "\n",
        "clf.score(X_test,y_test)\n"
      ],
      "execution_count": 205,
      "outputs": [
        {
          "output_type": "stream",
          "text": [
            "Mean squared error: 1.36\n"
          ],
          "name": "stdout"
        },
        {
          "output_type": "execute_result",
          "data": {
            "text/plain": [
              "0.002813543880959335"
            ]
          },
          "metadata": {
            "tags": []
          },
          "execution_count": 205
        }
      ]
    },
    {
      "cell_type": "markdown",
      "metadata": {
        "id": "-J_Q0wxgyU91"
      },
      "source": [
        "Testing on our dataset(test_csv)"
      ]
    },
    {
      "cell_type": "code",
      "metadata": {
        "colab": {
          "base_uri": "https://localhost:8080/",
          "height": 204
        },
        "id": "bb6qQ-RLN7f-",
        "outputId": "7d29043c-a437-43e9-a163-45b766073dc2"
      },
      "source": [
        "#reading test data\n",
        "test_dataframe=pd.read_csv('test.csv', encoding = 'latin-1')\n",
        "test_dataframe.drop(['Unnamed: 0'],axis=1,inplace=True)\n",
        "test_dataframe.dropna(axis=0,inplace=True)\n",
        "test_dataframe.head()"
      ],
      "execution_count": 207,
      "outputs": [
        {
          "output_type": "execute_result",
          "data": {
            "text/html": [
              "<div>\n",
              "<style scoped>\n",
              "    .dataframe tbody tr th:only-of-type {\n",
              "        vertical-align: middle;\n",
              "    }\n",
              "\n",
              "    .dataframe tbody tr th {\n",
              "        vertical-align: top;\n",
              "    }\n",
              "\n",
              "    .dataframe thead th {\n",
              "        text-align: right;\n",
              "    }\n",
              "</style>\n",
              "<table border=\"1\" class=\"dataframe\">\n",
              "  <thead>\n",
              "    <tr style=\"text-align: right;\">\n",
              "      <th></th>\n",
              "      <th>promptId</th>\n",
              "      <th>uniqueId</th>\n",
              "      <th>essay</th>\n",
              "    </tr>\n",
              "  </thead>\n",
              "  <tbody>\n",
              "    <tr>\n",
              "      <th>0</th>\n",
              "      <td>1</td>\n",
              "      <td>1_315</td>\n",
              "      <td>Curriculum has been adopted in many schools. T...</td>\n",
              "    </tr>\n",
              "    <tr>\n",
              "      <th>1</th>\n",
              "      <td>1</td>\n",
              "      <td>1_214</td>\n",
              "      <td>I strongly agree with the statement ,  The tig...</td>\n",
              "    </tr>\n",
              "    <tr>\n",
              "      <th>2</th>\n",
              "      <td>1</td>\n",
              "      <td>1_196</td>\n",
              "      <td>Imagination and creativity is the most importa...</td>\n",
              "    </tr>\n",
              "    <tr>\n",
              "      <th>3</th>\n",
              "      <td>1</td>\n",
              "      <td>1_178</td>\n",
              "      <td>In our eduction system leaves no room for imag...</td>\n",
              "    </tr>\n",
              "    <tr>\n",
              "      <th>4</th>\n",
              "      <td>1</td>\n",
              "      <td>1_201</td>\n",
              "      <td>I will agree at some what extend, because if w...</td>\n",
              "    </tr>\n",
              "  </tbody>\n",
              "</table>\n",
              "</div>"
            ],
            "text/plain": [
              "   promptId uniqueId                                              essay\n",
              "0         1    1_315  Curriculum has been adopted in many schools. T...\n",
              "1         1    1_214  I strongly agree with the statement ,  The tig...\n",
              "2         1    1_196  Imagination and creativity is the most importa...\n",
              "3         1    1_178  In our eduction system leaves no room for imag...\n",
              "4         1    1_201  I will agree at some what extend, because if w..."
            ]
          },
          "metadata": {
            "tags": []
          },
          "execution_count": 207
        }
      ]
    },
    {
      "cell_type": "code",
      "metadata": {
        "colab": {
          "base_uri": "https://localhost:8080/",
          "height": 296
        },
        "id": "2p6IUWQTUl2v",
        "outputId": "e42e2824-ecd6-4322-963f-f638fa8f2b72"
      },
      "source": [
        "sns.countplot(x=\"promptId\", data=test_dataframe)"
      ],
      "execution_count": 209,
      "outputs": [
        {
          "output_type": "execute_result",
          "data": {
            "text/plain": [
              "<matplotlib.axes._subplots.AxesSubplot at 0x7fd22f118210>"
            ]
          },
          "metadata": {
            "tags": []
          },
          "execution_count": 209
        },
        {
          "output_type": "display_data",
          "data": {
            "image/png": "[encoded data removed]",
            "text/plain": [
              "<Figure size 432x288 with 1 Axes>"
            ]
          },
          "metadata": {
            "tags": [],
            "needs_background": "light"
          }
        }
      ]
    },
    {
      "cell_type": "code",
      "metadata": {
        "id": "L-3YCfCqn2TO"
      },
      "source": [
        "test_data = test_dataframe[['promptId','essay']].copy()"
      ],
      "execution_count": 214,
      "outputs": []
    },
    {
      "cell_type": "markdown",
      "metadata": {
        "id": "8mDJGc4hyfiW"
      },
      "source": [
        "We are working with diffrent models for diffrent essay set so I append all predictions in the list and appended in test_prediction file"
      ]
    },
    {
      "cell_type": "code",
      "metadata": {
        "id": "qJitRGZhnPj4"
      },
      "source": [
        "#prediction for essay set 1\n",
        " l=[]\n",
        "feature_names_cv, count_vectors = get_count_vectors(data[data['promptId'] == 1]['essay'])\n",
        "\n",
        "X_cv = count_vectors.toarray()\n",
        "y_pred_1 = clf.predict(X_cv)\n",
        "func(y_pred_1)\n",
        "l.append(y_pred_1)"
      ],
      "execution_count": 247,
      "outputs": []
    },
    {
      "cell_type": "code",
      "metadata": {
        "id": "IYHcrG1MnrN5"
      },
      "source": [
        "#prediction for essay set 2 \n",
        "feature_names_cv, count_vectors = get_count_vectors(data[data['promptId'] == 2]['essay'])\n",
        "\n",
        "X_cv = count_vectors.toarray()\n",
        "y_pred_2 = clf.predict(X_cv)\n",
        "func(y_pred_2)\n",
        "l.append(y_pred_2)"
      ],
      "execution_count": 249,
      "outputs": []
    },
    {
      "cell_type": "code",
      "metadata": {
        "id": "vn08lxXan-8-"
      },
      "source": [
        "#prediction for essay set 3\n",
        "feature_names_cv, count_vectors = get_count_vectors(data[data['promptId'] == 3]['essay'])\n",
        "\n",
        "X_cv = count_vectors.toarray()\n",
        "y_pred_3 = clf.predict(X_cv\n",
        "                       )\n",
        "func(y_pred_3)\n",
        "l.append(y_pred_3)"
      ],
      "execution_count": 251,
      "outputs": []
    },
    {
      "cell_type": "code",
      "metadata": {
        "id": "NaKO4AcloNuO"
      },
      "source": [
        "#prediction for essay set 5\n",
        "feature_names_cv, count_vectors = get_count_vectors(data[data['promptId'] == 5]['essay'])\n",
        "\n",
        "X_cv = count_vectors.toarray()\n",
        "y_pred_5 = clf.predict(X_cv)\n",
        "func(y_pred_5)\n",
        "l.append(y_pred_5)"
      ],
      "execution_count": 255,
      "outputs": []
    },
    {
      "cell_type": "code",
      "metadata": {
        "id": "JUWbFk1toW4v"
      },
      "source": [
        "score=np.asarray(l)"
      ],
      "execution_count": 262,
      "outputs": []
    },
    {
      "cell_type": "code",
      "metadata": {
        "id": "1rzq2K6_qSFo"
      },
      "source": [
        "test_dataframe['score']=score"
      ],
      "execution_count": 272,
      "outputs": []
    },
    {
      "cell_type": "code",
      "metadata": {
        "colab": {
          "base_uri": "https://localhost:8080/",
          "height": 419
        },
        "id": "Z2q1EUeauYjK",
        "outputId": "481f186b-cff8-41c3-adfa-1e83a55b69b6"
      },
      "source": [
        "test_dataframe"
      ],
      "execution_count": 273,
      "outputs": [
        {
          "output_type": "execute_result",
          "data": {
            "text/html": [
              "<div>\n",
              "<style scoped>\n",
              "    .dataframe tbody tr th:only-of-type {\n",
              "        vertical-align: middle;\n",
              "    }\n",
              "\n",
              "    .dataframe tbody tr th {\n",
              "        vertical-align: top;\n",
              "    }\n",
              "\n",
              "    .dataframe thead th {\n",
              "        text-align: right;\n",
              "    }\n",
              "</style>\n",
              "<table border=\"1\" class=\"dataframe\">\n",
              "  <thead>\n",
              "    <tr style=\"text-align: right;\">\n",
              "      <th></th>\n",
              "      <th>promptId</th>\n",
              "      <th>uniqueId</th>\n",
              "      <th>essay</th>\n",
              "      <th>score</th>\n",
              "    </tr>\n",
              "  </thead>\n",
              "  <tbody>\n",
              "    <tr>\n",
              "      <th>0</th>\n",
              "      <td>1</td>\n",
              "      <td>1_315</td>\n",
              "      <td>Curriculum has been adopted in many schools. T...</td>\n",
              "      <td>3.0</td>\n",
              "    </tr>\n",
              "    <tr>\n",
              "      <th>1</th>\n",
              "      <td>1</td>\n",
              "      <td>1_214</td>\n",
              "      <td>I strongly agree with the statement ,  The tig...</td>\n",
              "      <td>2.5</td>\n",
              "    </tr>\n",
              "    <tr>\n",
              "      <th>2</th>\n",
              "      <td>1</td>\n",
              "      <td>1_196</td>\n",
              "      <td>Imagination and creativity is the most importa...</td>\n",
              "      <td>2.5</td>\n",
              "    </tr>\n",
              "    <tr>\n",
              "      <th>3</th>\n",
              "      <td>1</td>\n",
              "      <td>1_178</td>\n",
              "      <td>In our eduction system leaves no room for imag...</td>\n",
              "      <td>2.0</td>\n",
              "    </tr>\n",
              "    <tr>\n",
              "      <th>4</th>\n",
              "      <td>1</td>\n",
              "      <td>1_201</td>\n",
              "      <td>I will agree at some what extend, because if w...</td>\n",
              "      <td>3.0</td>\n",
              "    </tr>\n",
              "    <tr>\n",
              "      <th>...</th>\n",
              "      <td>...</td>\n",
              "      <td>...</td>\n",
              "      <td>...</td>\n",
              "      <td>...</td>\n",
              "    </tr>\n",
              "    <tr>\n",
              "      <th>300</th>\n",
              "      <td>5</td>\n",
              "      <td>5_146</td>\n",
              "      <td>Earth is a creation of God and everything that...</td>\n",
              "      <td>2.0</td>\n",
              "    </tr>\n",
              "    <tr>\n",
              "      <th>301</th>\n",
              "      <td>5</td>\n",
              "      <td>5_65</td>\n",
              "      <td>production of arms and weapons in this present...</td>\n",
              "      <td>2.0</td>\n",
              "    </tr>\n",
              "    <tr>\n",
              "      <th>302</th>\n",
              "      <td>5</td>\n",
              "      <td>5_151</td>\n",
              "      <td>Race to become more powerful can destroy the e...</td>\n",
              "      <td>3.5</td>\n",
              "    </tr>\n",
              "    <tr>\n",
              "      <th>303</th>\n",
              "      <td>5</td>\n",
              "      <td>5_404</td>\n",
              "      <td>In its attempt to harness the power of the ato...</td>\n",
              "      <td>3.0</td>\n",
              "    </tr>\n",
              "    <tr>\n",
              "      <th>304</th>\n",
              "      <td>5</td>\n",
              "      <td>5_360</td>\n",
              "      <td>Racein the production of arms and weapons in t...</td>\n",
              "      <td>2.5</td>\n",
              "    </tr>\n",
              "  </tbody>\n",
              "</table>\n",
              "<p>305 rows × 4 columns</p>\n",
              "</div>"
            ],
            "text/plain": [
              "     promptId  ... score\n",
              "0           1  ...   3.0\n",
              "1           1  ...   2.5\n",
              "2           1  ...   2.5\n",
              "3           1  ...   2.0\n",
              "4           1  ...   3.0\n",
              "..        ...  ...   ...\n",
              "300         5  ...   2.0\n",
              "301         5  ...   2.0\n",
              "302         5  ...   3.5\n",
              "303         5  ...   3.0\n",
              "304         5  ...   2.5\n",
              "\n",
              "[305 rows x 4 columns]"
            ]
          },
          "metadata": {
            "tags": []
          },
          "execution_count": 273
        }
      ]
    },
    {
      "cell_type": "markdown",
      "metadata": {
        "id": "Ry_H92-ezX0T"
      },
      "source": [
        "After making all the predictions I saved the results in test prediction.csv"
      ]
    },
    {
      "cell_type": "code",
      "metadata": {
        "id": "Z2Ki9aCxvYfx"
      },
      "source": [
        "test_dataframe.to_csv('test_prediction.csv')"
      ],
      "execution_count": 274,
      "outputs": []
    },
    {
      "cell_type": "code",
      "metadata": {
        "id": "dAXN81bDvuVc"
      },
      "source": [
        ""
      ],
      "execution_count": null,
      "outputs": []
    }
  ]
}